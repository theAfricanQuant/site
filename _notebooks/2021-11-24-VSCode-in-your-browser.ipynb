{
 "cells": [
  {
   "cell_type": "markdown",
   "id": "7fcaaf1a-7932-4381-8eb5-ad7d8481c006",
   "metadata": {},
   "source": [
    "# Visual Studio Code in Your Browser\n",
    "\n",
    "> using VSCode on your browser for a quick coding experience on the go without any need for downloading new software that clogs your laptop or desktop.\n",
    "\n",
    "- toc: true\n",
    "- badges: true\n",
    "- comments: true\n",
    "- author: Ricky Macharm, MScFE\n",
    "- categories: [python]\n",
    "- image: images/final_display.png"
   ]
  },
  {
   "cell_type": "markdown",
   "id": "ab5cf94f-8a3c-4b1d-8d85-86e733f4fb2f",
   "metadata": {},
   "source": [
    "## Introduction"
   ]
  },
  {
   "cell_type": "markdown",
   "id": "d99faec4-d642-43b9-b3e2-6654871559bb",
   "metadata": {},
   "source": [
    "A lot of folks coming into data science are or coding are doing so with minimal budget. One of the constraints they face is having old machines (desktops or laptops) and installing new software packages on their machines becomes a nightmarish experience. To reduce this barrier to entry, some tools are being made available for free online. For data scientists, Google's colab is a lifesaver as all you will require is a laptop with internet connection (with a browser of course) and a gmail account.\n",
    "\n",
    "One favourite IDE for Python developers is the the Visual Studio Code editor, and as a part of the October 2021 release, the editor became available in a zero-install version that runs entirely in your browser. You can access it on your browser by navigating to `vscode.dev`. Once you’re there, you can open files—and even directories, on supported browsers—and start working. \n",
    "\n",
    "Some features aren't supported however (like the terminal and the debugger). You’ll still have a good editing experience with most of the features and extensions you’re familiar with and are used to from the desktop version."
   ]
  },
  {
   "cell_type": "markdown",
   "id": "3837b230-cc9b-49dc-81c8-b2f258c005fc",
   "metadata": {},
   "source": [
    "## How it works"
   ]
  },
  {
   "cell_type": "markdown",
   "id": "2d753257-c1f9-4460-9e85-d0ab82dcc813",
   "metadata": {},
   "source": [
    "You can have instant access to code stored on github or azure. Just navigate to the repository of interest and then add `vscode.dev` in front of the repo's URL and \"voila!\" it would be opened inside of the editor. "
   ]
  },
  {
   "cell_type": "markdown",
   "id": "f094d4fa-95c0-4347-80b9-21270693428c",
   "metadata": {},
   "source": [
    "Lets say you decided to check some of the repositories I have on my github account and you came upon `https://github.com/theAfricanQuant/WorldQuant_Python/blob/master/MyGraph.py`, the image below is what you would typically see.\n",
    "\n",
    "![](my_icons/github_repo.png \"(image by Author)\")"
   ]
  },
  {
   "cell_type": "markdown",
   "id": "f1149666-a6fe-42e4-8a13-4e0cc277aac1",
   "metadata": {},
   "source": [
    "To open it in vscode, all you'd need to do is to type `\"vscode.dev\"` to precede the url given above thus: `vscode.dev/github.com/theAfricanQuant/WorldQuant_Python/blob/master/MyGraph.py` and it will open up as shown below.\n",
    "\n",
    "![](my_icons/final_display.png \"(image by Author)\")"
   ]
  },
  {
   "cell_type": "markdown",
   "id": "e9fdb19e-aaf7-4c91-b010-5222e3fdfbb1",
   "metadata": {},
   "source": [
    "## Caveat\n",
    "\n",
    "When I ran the above for the first time, it asked for permissions and authorization to access my github account (via my login details) so you may want to have an account with github and if possible fork the repository you are looking at if it belongs to someone else.\n",
    "\n",
    "![](my_icons/vscode_permissions.png \"permissions pop-up  (image by Author)\")\n",
    "\n",
    "![](my_icons/vscode_authorization.png \"Authorization pop-up  (image by Author)\")\n"
   ]
  },
  {
   "cell_type": "markdown",
   "id": "edee65e5-a33a-4162-bb6a-f661ba487d36",
   "metadata": {},
   "source": [
    "## Conclusion\n",
    "\n",
    "This is a really handy tool for many reasons I would say. Try it out today and let me know your thoughts in the comment section below. Have a nice day and happy coding in Python."
   ]
  },
  {
   "cell_type": "code",
   "execution_count": null,
   "id": "7588aa9e-0117-4a0f-8bf9-d04e26566110",
   "metadata": {},
   "outputs": [],
   "source": []
  }
 ],
 "metadata": {
  "kernelspec": {
   "display_name": "Python 3 (ipykernel)",
   "language": "python",
   "name": "python3"
  },
  "language_info": {
   "codemirror_mode": {
    "name": "ipython",
    "version": 3
   },
   "file_extension": ".py",
   "mimetype": "text/x-python",
   "name": "python",
   "nbconvert_exporter": "python",
   "pygments_lexer": "ipython3",
   "version": "3.8.11"
  }
 },
 "nbformat": 4,
 "nbformat_minor": 5
}
